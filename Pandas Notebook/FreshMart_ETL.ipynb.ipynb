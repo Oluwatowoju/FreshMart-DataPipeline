{
 "cells": [
  {
   "cell_type": "code",
   "execution_count": 47,
   "id": "de527a04",
   "metadata": {},
   "outputs": [],
   "source": [
    "import pandas as pd"
   ]
  },
  {
   "cell_type": "code",
   "execution_count": 48,
   "id": "93cf7261",
   "metadata": {},
   "outputs": [
    {
     "name": "stdout",
     "output_type": "stream",
     "text": [
      "     ProductID ProductName   Category  Price  StockQuantity\n",
      "0            1      Milk 1      Dairy  19.35          358.0\n",
      "1            2      Cola 2  Beverages   9.99           81.0\n",
      "2            3    Banana 3    Produce  30.33          112.0\n",
      "3            4     Cream 4      Dairy  22.85          224.0\n",
      "4            5     Cream 5      Dairy   3.85           97.0\n",
      "..         ...         ...        ...    ...            ...\n",
      "200         96    Apple 96    Produce   3.52          494.0\n",
      "201         16   Coffee 16  Beverages  18.95          199.0\n",
      "202         31    Apple 31    Produce  21.83           63.0\n",
      "203        159     Tea 159  Beverages  19.14          242.0\n",
      "204        129  Muffin 129     Bakery  42.96           63.0\n",
      "\n",
      "[205 rows x 5 columns]\n"
     ]
    }
   ],
   "source": [
    "freshmart_df = pd.read_csv(r'Dataset\\RawData\\freshmart_products_csv.csv')\n",
    "\n",
    "print (freshmart_df)"
   ]
  },
  {
   "cell_type": "code",
   "execution_count": 49,
   "id": "10f57815",
   "metadata": {},
   "outputs": [
    {
     "data": {
      "text/html": [
       "<div>\n",
       "<style scoped>\n",
       "    .dataframe tbody tr th:only-of-type {\n",
       "        vertical-align: middle;\n",
       "    }\n",
       "\n",
       "    .dataframe tbody tr th {\n",
       "        vertical-align: top;\n",
       "    }\n",
       "\n",
       "    .dataframe thead th {\n",
       "        text-align: right;\n",
       "    }\n",
       "</style>\n",
       "<table border=\"1\" class=\"dataframe\">\n",
       "  <thead>\n",
       "    <tr style=\"text-align: right;\">\n",
       "      <th></th>\n",
       "      <th>ProductID</th>\n",
       "      <th>ProductName</th>\n",
       "      <th>Category</th>\n",
       "      <th>Price</th>\n",
       "      <th>StockQuantity</th>\n",
       "    </tr>\n",
       "  </thead>\n",
       "  <tbody>\n",
       "    <tr>\n",
       "      <th>0</th>\n",
       "      <td>1</td>\n",
       "      <td>Milk 1</td>\n",
       "      <td>Dairy</td>\n",
       "      <td>19.35</td>\n",
       "      <td>358.0</td>\n",
       "    </tr>\n",
       "    <tr>\n",
       "      <th>1</th>\n",
       "      <td>2</td>\n",
       "      <td>Cola 2</td>\n",
       "      <td>Beverages</td>\n",
       "      <td>9.99</td>\n",
       "      <td>81.0</td>\n",
       "    </tr>\n",
       "    <tr>\n",
       "      <th>2</th>\n",
       "      <td>3</td>\n",
       "      <td>Banana 3</td>\n",
       "      <td>Produce</td>\n",
       "      <td>30.33</td>\n",
       "      <td>112.0</td>\n",
       "    </tr>\n",
       "    <tr>\n",
       "      <th>3</th>\n",
       "      <td>4</td>\n",
       "      <td>Cream 4</td>\n",
       "      <td>Dairy</td>\n",
       "      <td>22.85</td>\n",
       "      <td>224.0</td>\n",
       "    </tr>\n",
       "    <tr>\n",
       "      <th>4</th>\n",
       "      <td>5</td>\n",
       "      <td>Cream 5</td>\n",
       "      <td>Dairy</td>\n",
       "      <td>3.85</td>\n",
       "      <td>97.0</td>\n",
       "    </tr>\n",
       "  </tbody>\n",
       "</table>\n",
       "</div>"
      ],
      "text/plain": [
       "   ProductID ProductName   Category  Price  StockQuantity\n",
       "0          1      Milk 1      Dairy  19.35          358.0\n",
       "1          2      Cola 2  Beverages   9.99           81.0\n",
       "2          3    Banana 3    Produce  30.33          112.0\n",
       "3          4     Cream 4      Dairy  22.85          224.0\n",
       "4          5     Cream 5      Dairy   3.85           97.0"
      ]
     },
     "execution_count": 49,
     "metadata": {},
     "output_type": "execute_result"
    }
   ],
   "source": [
    " #Display first 5 rows\n",
    "freshmart_df.head()"
   ]
  },
  {
   "cell_type": "code",
   "execution_count": 50,
   "id": "f9c64ea7",
   "metadata": {},
   "outputs": [
    {
     "name": "stdout",
     "output_type": "stream",
     "text": [
      "<class 'pandas.core.frame.DataFrame'>\n",
      "RangeIndex: 205 entries, 0 to 204\n",
      "Data columns (total 5 columns):\n",
      " #   Column         Non-Null Count  Dtype  \n",
      "---  ------         --------------  -----  \n",
      " 0   ProductID      205 non-null    int64  \n",
      " 1   ProductName    205 non-null    object \n",
      " 2   Category       205 non-null    object \n",
      " 3   Price          200 non-null    float64\n",
      " 4   StockQuantity  200 non-null    float64\n",
      "dtypes: float64(2), int64(1), object(2)\n",
      "memory usage: 8.1+ KB\n"
     ]
    }
   ],
   "source": [
    "# Data cleaning and Transformation\n",
    "freshmart_df.info()"
   ]
  },
  {
   "cell_type": "code",
   "execution_count": 51,
   "id": "8475de47",
   "metadata": {},
   "outputs": [
    {
     "data": {
      "text/plain": [
       "ProductID        0\n",
       "ProductName      0\n",
       "Category         0\n",
       "Price            5\n",
       "StockQuantity    5\n",
       "dtype: int64"
      ]
     },
     "execution_count": 51,
     "metadata": {},
     "output_type": "execute_result"
    }
   ],
   "source": [
    "freshmart_df.isnull().sum()"
   ]
  },
  {
   "cell_type": "code",
   "execution_count": 52,
   "id": "16067edc",
   "metadata": {},
   "outputs": [
    {
     "name": "stdout",
     "output_type": "stream",
     "text": [
      "   ProductID    ProductName   Category  Price  StockQuantity\n",
      "0          1         Milk 1      Dairy  19.35          358.0\n",
      "1          2         Cola 2  Beverages   9.99           81.0\n",
      "2          3       Banana 3    Produce  30.33          112.0\n",
      "3          4        Cream 4      Dairy  22.85          224.0\n",
      "4          5        Cream 5      Dairy   3.85           97.0\n",
      "5          6        Bread 6     Bakery  17.35          369.0\n",
      "6          7         Milk 7      Dairy  35.70            0.0\n",
      "7          8       Banana 8    Produce   3.76          353.0\n",
      "8          9  Granola Bar 9     Snacks  41.79          303.0\n",
      "9         10       Cream 10      Dairy   1.04          453.0\n"
     ]
    }
   ],
   "source": [
    "freshmart_df[\"Price\"] = freshmart_df[\"Price\"].fillna(0)\n",
    "freshmart_df[\"StockQuantity\"] = freshmart_df[\"StockQuantity\"].fillna(0)\n",
    "\n",
    "print (freshmart_df.head(10))"
   ]
  },
  {
   "cell_type": "code",
   "execution_count": 53,
   "id": "f66e9c75",
   "metadata": {},
   "outputs": [
    {
     "data": {
      "text/plain": [
       "4"
      ]
     },
     "execution_count": 53,
     "metadata": {},
     "output_type": "execute_result"
    }
   ],
   "source": [
    "# checking for duplicates\n",
    "freshmart_df.duplicated().sum()\n"
   ]
  },
  {
   "cell_type": "code",
   "execution_count": 54,
   "id": "a2412122",
   "metadata": {},
   "outputs": [
    {
     "data": {
      "text/html": [
       "<div>\n",
       "<style scoped>\n",
       "    .dataframe tbody tr th:only-of-type {\n",
       "        vertical-align: middle;\n",
       "    }\n",
       "\n",
       "    .dataframe tbody tr th {\n",
       "        vertical-align: top;\n",
       "    }\n",
       "\n",
       "    .dataframe thead th {\n",
       "        text-align: right;\n",
       "    }\n",
       "</style>\n",
       "<table border=\"1\" class=\"dataframe\">\n",
       "  <thead>\n",
       "    <tr style=\"text-align: right;\">\n",
       "      <th></th>\n",
       "      <th>ProductID</th>\n",
       "      <th>ProductName</th>\n",
       "      <th>Category</th>\n",
       "      <th>Price</th>\n",
       "      <th>StockQuantity</th>\n",
       "    </tr>\n",
       "  </thead>\n",
       "  <tbody>\n",
       "    <tr>\n",
       "      <th>200</th>\n",
       "      <td>96</td>\n",
       "      <td>Apple 96</td>\n",
       "      <td>Produce</td>\n",
       "      <td>3.52</td>\n",
       "      <td>494.0</td>\n",
       "    </tr>\n",
       "    <tr>\n",
       "      <th>201</th>\n",
       "      <td>16</td>\n",
       "      <td>Coffee 16</td>\n",
       "      <td>Beverages</td>\n",
       "      <td>18.95</td>\n",
       "      <td>199.0</td>\n",
       "    </tr>\n",
       "    <tr>\n",
       "      <th>203</th>\n",
       "      <td>159</td>\n",
       "      <td>Tea 159</td>\n",
       "      <td>Beverages</td>\n",
       "      <td>19.14</td>\n",
       "      <td>242.0</td>\n",
       "    </tr>\n",
       "    <tr>\n",
       "      <th>204</th>\n",
       "      <td>129</td>\n",
       "      <td>Muffin 129</td>\n",
       "      <td>Bakery</td>\n",
       "      <td>42.96</td>\n",
       "      <td>63.0</td>\n",
       "    </tr>\n",
       "  </tbody>\n",
       "</table>\n",
       "</div>"
      ],
      "text/plain": [
       "     ProductID ProductName   Category  Price  StockQuantity\n",
       "200         96    Apple 96    Produce   3.52          494.0\n",
       "201         16   Coffee 16  Beverages  18.95          199.0\n",
       "203        159     Tea 159  Beverages  19.14          242.0\n",
       "204        129  Muffin 129     Bakery  42.96           63.0"
      ]
     },
     "execution_count": 54,
     "metadata": {},
     "output_type": "execute_result"
    }
   ],
   "source": [
    "freshmart_df[freshmart_df.duplicated()]"
   ]
  },
  {
   "cell_type": "code",
   "execution_count": 55,
   "id": "31a24444",
   "metadata": {},
   "outputs": [],
   "source": [
    "# dropping duplicate\n",
    "freshmart_df = freshmart_df.drop_duplicates()"
   ]
  },
  {
   "cell_type": "code",
   "execution_count": 20,
   "id": "b290e15c",
   "metadata": {},
   "outputs": [
    {
     "name": "stdout",
     "output_type": "stream",
     "text": [
      "<class 'pandas.core.frame.DataFrame'>\n",
      "Index: 201 entries, 0 to 202\n",
      "Data columns (total 5 columns):\n",
      " #   Column         Non-Null Count  Dtype  \n",
      "---  ------         --------------  -----  \n",
      " 0   ProductID      201 non-null    int64  \n",
      " 1   ProductName    201 non-null    object \n",
      " 2   Category       201 non-null    object \n",
      " 3   Price          201 non-null    float64\n",
      " 4   StockQuantity  201 non-null    float64\n",
      "dtypes: float64(2), int64(1), object(2)\n",
      "memory usage: 9.4+ KB\n"
     ]
    }
   ],
   "source": [
    "freshmart_df.info()"
   ]
  },
  {
   "cell_type": "code",
   "execution_count": 56,
   "id": "67cdf1d0",
   "metadata": {},
   "outputs": [],
   "source": [
    "# Replacing incorrect values/spellings\n",
    "freshmart_df[\"Category\"] = freshmart_df[\"Category\"].replace(\"Bevarages\", \"Beverages\")\n",
    "freshmart_df[\"Category\"] = freshmart_df[\"Category\"].replace(\"snakcs\", \"Snacks\")\n",
    "freshmart_df[\"Category\"] = freshmart_df[\"Category\"].replace(\"0Beverages\", \"Beverages\")\n",
    "freshmart_df[\"Category\"] = freshmart_df[\"Category\"].replace(\"2Beverages\", \"Beverages\")\n",
    "freshmart_df[\"Category\"] = freshmart_df[\"Category\"].replace(\"9Beverages\", \"Beverages\")\n"
   ]
  },
  {
   "cell_type": "code",
   "execution_count": 57,
   "id": "ec7d99b6",
   "metadata": {},
   "outputs": [
    {
     "name": "stdout",
     "output_type": "stream",
     "text": [
      "    ProductID      ProductName   Category  Price  StockQuantity\n",
      "0           1           Milk 1      Dairy  19.35          358.0\n",
      "1           2           Cola 2  Beverages   9.99           81.0\n",
      "2           3         Banana 3    Produce  30.33          112.0\n",
      "3           4          Cream 4      Dairy  22.85          224.0\n",
      "4           5          Cream 5      Dairy   3.85           97.0\n",
      "5           6          Bread 6     Bakery  17.35          369.0\n",
      "6           7           Milk 7      Dairy  35.70            0.0\n",
      "7           8         Banana 8    Produce   3.76          353.0\n",
      "8           9    Granola Bar 9     Snacks  41.79          303.0\n",
      "9          10         Cream 10      Dairy   1.04          453.0\n",
      "10         11        Tomato 11      dairy   9.99          469.0\n",
      "11         12     Croissant 12     Bakery  30.97          262.0\n",
      "12         13         Donut 13     Bakery  22.17           58.0\n",
      "13         14  Orange Juice 14  Beverages  26.71          179.0\n",
      "14         15       Lettuce 15    Produce   3.29          197.0\n",
      "15         16        Coffee 16  Beverages  18.95          199.0\n",
      "16         17        Banana 17    Produce   5.44          455.0\n",
      "17         18  Orange Juice 18  Beverages  10.78           64.0\n",
      "18         19        Butter 19      Dairy  49.18          140.0\n",
      "19         20        Yogurt 20      Dairy  43.14          144.0\n",
      "20         21  Mineral Water 2  Beverages   9.36          176.0\n",
      "21         22  Orange Juice 22  Beverages   1.65           98.0\n",
      "22         23         Donut 23     Bakery  48.32          251.0\n",
      "23         24        Butter 24      Dairy  19.89          355.0\n",
      "24         25         Cream 25      Dairy   5.79          349.0\n",
      "25         26  Mineral Water 2  Beverages  12.81          453.0\n",
      "26         27  Mineral Water 2  Beverages   6.98          273.0\n",
      "27         28         Apple 28    Produce   2.69          215.0\n",
      "28         29        Cheese 29      Dairy  20.16           59.0\n",
      "29         30  Orange Juice 30  Beverages  33.46           11.0\n"
     ]
    }
   ],
   "source": [
    "#check the incorrect spellings have been successfully replaced.\n",
    "print(freshmart_df.head(30))"
   ]
  },
  {
   "cell_type": "code",
   "execution_count": 58,
   "id": "3e2ff792",
   "metadata": {},
   "outputs": [
    {
     "name": "stdout",
     "output_type": "stream",
     "text": [
      "0      358\n",
      "1       81\n",
      "2      112\n",
      "3      224\n",
      "4       97\n",
      "      ... \n",
      "196     56\n",
      "197    433\n",
      "198    278\n",
      "199    115\n",
      "202     63\n",
      "Name: StockQuantity, Length: 201, dtype: int32\n"
     ]
    }
   ],
   "source": [
    "freshmart_df[\"StockQuantity\"] = freshmart_df[\"StockQuantity\"].astype(int)\n",
    "\n",
    "print(freshmart_df[\"StockQuantity\"])"
   ]
  },
  {
   "cell_type": "code",
   "execution_count": 59,
   "id": "b9603f99",
   "metadata": {},
   "outputs": [
    {
     "name": "stdout",
     "output_type": "stream",
     "text": [
      "     ProductID      ProductName   Category  Price  StockQuantity  StockValue\n",
      "0            1           Milk 1      Dairy  19.35            358     6927.30\n",
      "1            2           Cola 2  Beverages   9.99             81      809.19\n",
      "2            3         Banana 3    Produce  30.33            112     3396.96\n",
      "3            4          Cream 4      Dairy  22.85            224     5118.40\n",
      "4            5          Cream 5      Dairy   3.85             97      373.45\n",
      "..         ...              ...        ...    ...            ...         ...\n",
      "196        197         Cola 197  Beverages  27.04             56     1514.24\n",
      "197        198        Apple 198    Produce  35.28            433    15276.24\n",
      "198        199  Mineral Water 1  Beverages  36.58            278    10169.24\n",
      "199        200        Donut 200     Bakery  48.51            115     5578.65\n",
      "202         31         Apple 31    Produce  21.83             63     1375.29\n",
      "\n",
      "[201 rows x 6 columns]\n"
     ]
    }
   ],
   "source": [
    "# creating a StockValue column\n",
    "freshmart_df[\"StockValue\"] = freshmart_df[\"Price\"] * freshmart_df[\"StockQuantity\"].round(2)\n",
    "\n",
    "print(freshmart_df)"
   ]
  },
  {
   "cell_type": "code",
   "execution_count": 60,
   "id": "124b141a",
   "metadata": {},
   "outputs": [
    {
     "name": "stdout",
     "output_type": "stream",
     "text": [
      "     ProductID      ProductName   Category  Price  StockQuantity  StockValue\n",
      "0            1           Milk 1      Dairy  19.35            358     6927.30\n",
      "1            2           Cola 2  Beverages   9.99             81      809.19\n",
      "2            3         Banana 3    Produce  30.33            112     3396.96\n",
      "3            4          Cream 4      Dairy  22.85            224     5118.40\n",
      "4            5          Cream 5      Dairy   3.85             97      373.45\n",
      "..         ...              ...        ...    ...            ...         ...\n",
      "196        197         Cola 197  Beverages  27.04             56     1514.24\n",
      "197        198        Apple 198    Produce  35.28            433    15276.24\n",
      "198        199  Mineral Water 1  Beverages  36.58            278    10169.24\n",
      "199        200        Donut 200     Bakery  48.51            115     5578.65\n",
      "202         31         Apple 31    Produce  21.83             63     1375.29\n",
      "\n",
      "[201 rows x 6 columns]\n"
     ]
    }
   ],
   "source": [
    " # Aggregate by category\n",
    "agg_df = freshmart_df.groupby(\"Category\").agg(\n",
    "    average_price = (\"Price\", \"mean\"),\n",
    "    total_stockquantity = (\"StockQuantity\", \"sum\")\n",
    ").reset_index()\n",
    "\n",
    "agg_df[\"average_price\"] = agg_df[\"average_price\"].round(2)\n",
    "agg_df[\"total_stockquantity\"] = agg_df[\"total_stockquantity\"].astype(int)\n",
    "\n",
    "print(freshmart_df)"
   ]
  },
  {
   "cell_type": "code",
   "execution_count": 112,
   "id": "fadacf31",
   "metadata": {},
   "outputs": [
    {
     "name": "stdout",
     "output_type": "stream",
     "text": [
      "     ProductID      ProductName   Category  Price  StockQuantity  StockValue\n",
      "0            1           Milk 1      Dairy  19.35            358     6927.30\n",
      "1            2           Cola 2  Beverages   9.99             81      809.19\n",
      "2            3         Banana 3    Produce  30.33            112     3396.96\n",
      "3            4          Cream 4      Dairy  22.85            224     5118.40\n",
      "4            5          Cream 5      Dairy   3.85             97      373.45\n",
      "..         ...              ...        ...    ...            ...         ...\n",
      "196        197         Cola 197  Beverages  27.04             56     1514.24\n",
      "197        198        Apple 198    Produce  35.28            433    15276.24\n",
      "198        199  Mineral Water 1  Beverages  36.58            278    10169.24\n",
      "199        200        Donut 200     Bakery  48.51            115     5578.65\n",
      "200         31         Apple 31    Produce  21.83             63     1375.29\n",
      "\n",
      "[201 rows x 6 columns]\n"
     ]
    }
   ],
   "source": [
    "#product table\n",
    "products_df = freshmart_df[['ProductID', 'ProductName', 'Category', 'Price', 'StockQuantity', 'StockValue']].copy().drop_duplicates().reset_index(drop=True)\n",
    "\n",
    "print(products_df)\n"
   ]
  },
  {
   "cell_type": "code",
   "execution_count": 121,
   "id": "38432ef9",
   "metadata": {},
   "outputs": [],
   "source": [
    "#save the table to csv\n",
    "products_df.to_csv(r'Dataset\\CleanedData\\products.csv', index=False)\n"
   ]
  },
  {
   "cell_type": "markdown",
   "id": "f8f73688",
   "metadata": {},
   "source": [
    "#### Data Storage with PostgreSQL"
   ]
  },
  {
   "cell_type": "code",
   "execution_count": 83,
   "id": "a65cac98",
   "metadata": {},
   "outputs": [
    {
     "name": "stdout",
     "output_type": "stream",
     "text": [
      "Requirement already satisfied: psycopg2-binary in c:\\users\\adeol\\anaconda3\\lib\\site-packages (2.9.10)\n"
     ]
    }
   ],
   "source": [
    "!pip install psycopg2-binary"
   ]
  },
  {
   "cell_type": "code",
   "execution_count": 115,
   "id": "61b9b8d7",
   "metadata": {},
   "outputs": [],
   "source": [
    "import psycopg2"
   ]
  },
  {
   "cell_type": "code",
   "execution_count": 1,
   "id": "e83ea8ac",
   "metadata": {},
   "outputs": [],
   "source": [
    "def get_db_connection():\n",
    "    connection = psycopg2.connect(\n",
    "        host = 'localhost',\n",
    "        database = 'Fresh_Mart_db',\n",
    "        user = 'postgres',\n",
    "        password = 'Tiwalade16',\n",
    "        port ='5432'\n",
    "    )\n",
    "    \n",
    "    return connection"
   ]
  },
  {
   "cell_type": "code",
   "execution_count": 117,
   "id": "2827bee1",
   "metadata": {},
   "outputs": [
    {
     "name": "stdout",
     "output_type": "stream",
     "text": [
      "Connection successful: <connection object at 0x000002BA74E92BD0; dsn: 'user=postgres password=xxx dbname=Fresh_Mart_db host=localhost port=5432', closed: 0>\n"
     ]
    }
   ],
   "source": [
    "conn = get_db_connection()\n",
    "print(\"Connection successful:\",conn)"
   ]
  },
  {
   "cell_type": "code",
   "execution_count": 120,
   "id": "ec5bf8cf",
   "metadata": {},
   "outputs": [],
   "source": [
    "#create SQL table\n",
    "def create_table():\n",
    "    conn = get_db_connection()\n",
    "    cursor = conn.cursor()\n",
    "    create_table_query = '''\n",
    "                            CREATE SCHEMA IF NOT EXISTS fresh_mart;\n",
    "\n",
    "                            DROP TABLE IF EXISTS fresh_mart.products;\n",
    "\n",
    "                            CREATE TABLE fresh_mart.products (\n",
    "                                ProductID SERIAL PRIMARY KEY,\n",
    "                                ProductName VARCHAR,\n",
    "                                Category VARCHAR,\n",
    "                                Price DECIMAL,\n",
    "                                StockQuantity INT,\n",
    "                                StockValue DECIMAL\n",
    "                            );\n",
    "                            '''\n",
    "    cursor.execute(create_table_query)\n",
    "    conn.commit()\n",
    "    cursor.close()\n",
    "    conn.close()\n",
    "    \n",
    "    "
   ]
  },
  {
   "cell_type": "code",
   "execution_count": 119,
   "id": "fcee431e",
   "metadata": {},
   "outputs": [],
   "source": [
    "create_table()"
   ]
  },
  {
   "cell_type": "markdown",
   "id": "e8951752",
   "metadata": {},
   "source": [
    "#### Data Load"
   ]
  },
  {
   "cell_type": "code",
   "execution_count": 127,
   "id": "bbc7215c",
   "metadata": {},
   "outputs": [],
   "source": [
    "import csv\n",
    "def load_data_from(csv_path):\n",
    "    conn=get_db_connection()\n",
    "    cursor = conn.cursor()\n",
    "    with open(csv_path,'r') as file:\n",
    "        reader =csv.DictReader(file)\n",
    "        for row in reader:\n",
    "            cursor.execute('''\n",
    "               INSERT INTO fresh_mart.products(ProductName, Category, Price, StockQuantity, StockValue)\n",
    "               VALUES(%s, %s, %s, %s, %s)\n",
    "            ''', (\n",
    "                row['ProductName'],\n",
    "                row['Category'],\n",
    "                row['Price'],\n",
    "                row['StockQuantity'],\n",
    "                row['StockValue']\n",
    "            ))\n",
    "        conn.commit()\n",
    "        cursor.close()\n",
    "        conn.close()\n",
    "        print(\"CSV data loaded successfully!\")\n",
    "\n",
    "\n",
    "\n",
    "\n",
    "\n",
    "            "
   ]
  },
  {
   "cell_type": "code",
   "execution_count": 128,
   "id": "fedbfa80",
   "metadata": {},
   "outputs": [
    {
     "name": "stdout",
     "output_type": "stream",
     "text": [
      "CSV data loaded successfully!\n"
     ]
    }
   ],
   "source": [
    "csv_file_path =r'Dataset\\CleanedData\\products.csv'\n",
    "load_data_from(csv_file_path)"
   ]
  },
  {
   "cell_type": "code",
   "execution_count": 139,
   "id": "5468c33b",
   "metadata": {},
   "outputs": [],
   "source": [
    "# Query database - dairy products\n",
    "def fetch_dairy_products_df():\n",
    "    conn = get_db_connection()\n",
    "    cursor = conn.cursor()\n",
    "\n",
    "    query = \"\"\"\n",
    "        SELECT *\n",
    "        FROM fresh_mart.products\n",
    "        WHERE Category = %s;\n",
    "    \"\"\"\n",
    "\n",
    "    df = pd.read_sql(query, conn, params=('Dairy',))\n",
    "    conn.close()\n",
    "    return df\n",
    "    \n",
    "\n",
    "    \n",
    "    \n",
    "    "
   ]
  },
  {
   "cell_type": "code",
   "execution_count": 136,
   "id": "0ea9d19c",
   "metadata": {},
   "outputs": [
    {
     "name": "stdout",
     "output_type": "stream",
     "text": [
      "    productid productname category  price  stockquantity  stockvalue\n",
      "0           1      Milk 1    Dairy  19.35            358     6927.30\n",
      "1           4     Cream 4    Dairy  22.85            224     5118.40\n",
      "2           5     Cream 5    Dairy   3.85             97      373.45\n",
      "3           7      Milk 7    Dairy  35.70              0        0.00\n",
      "4          10    Cream 10    Dairy   1.04            453      471.12\n",
      "5          19   Butter 19    Dairy  49.18            140     6885.20\n",
      "6          20   Yogurt 20    Dairy  43.14            144     6212.16\n",
      "7          24   Butter 24    Dairy  19.89            355     7060.95\n",
      "8          25    Cream 25    Dairy   5.79            349     2020.71\n",
      "9          29   Cheese 29    Dairy  20.16             59     1189.44\n",
      "10         58     Milk 58    Dairy  24.14            110     2655.40\n",
      "11         61   Butter 61    Dairy  12.56            407     5111.92\n",
      "12         65     Milk 65    Dairy  10.88            361     3927.68\n",
      "13         70   Yogurt 70    Dairy  38.02             45     1710.90\n",
      "14         80   Yogurt 80    Dairy   6.39            386     2466.54\n",
      "15         82   Cheese 82    Dairy  41.08            242     9941.36\n",
      "16         84   Butter 84    Dairy  26.03            146     3800.38\n",
      "17         85    Cream 85    Dairy  24.76            234     5793.84\n",
      "18         95   Cheese 95    Dairy  48.85            229    11186.65\n",
      "19        101    Milk 101    Dairy  30.04            448    13457.92\n",
      "20        103  Yogurt 103    Dairy  12.87            303     3899.61\n",
      "21        104   Cream 104    Dairy  19.02            381     7246.62\n",
      "22        112  Butter 112    Dairy  26.09            156     4070.04\n",
      "23        115    Milk 115    Dairy  20.48             48      983.04\n",
      "24        116  Butter 116    Dairy  46.90            138     6472.20\n",
      "25        125    Milk 125    Dairy  28.36            169     4792.84\n",
      "26        127  Cheese 127    Dairy  14.66            156     2286.96\n",
      "27        131  Cheese 131    Dairy  42.70            122     5209.40\n",
      "28        140  Yogurt 140    Dairy   1.89            407      769.23\n",
      "29        141    Milk 141    Dairy  16.94            413     6996.22\n",
      "30        149   Cream 149    Dairy  44.71            292    13055.32\n",
      "31        161  Butter 161    Dairy  21.98            190     4176.20\n",
      "32        163    Milk 163    Dairy  42.80            200     8560.00\n",
      "33        167  Cheese 167    Dairy  28.28            232     6560.96\n",
      "34        172   Cream 172    Dairy  13.45            499     6711.55\n",
      "35        175    Milk 175    Dairy  35.42            185     6552.70\n",
      "36        182    Milk 182    Dairy   0.00            409        0.00\n",
      "37        184    Milk 184    Dairy  17.56            101     1773.56\n",
      "38        189    Milk 189    Dairy  42.11             67     2821.37\n",
      "39        190  Cheese 190    Dairy   2.49            189      470.61\n",
      "40        195  Yogurt 195    Dairy  31.52            205     6461.60\n"
     ]
    },
    {
     "name": "stderr",
     "output_type": "stream",
     "text": [
      "C:\\Users\\adeol\\AppData\\Local\\Temp\\ipykernel_34104\\4246731764.py:12: UserWarning: pandas only supports SQLAlchemy connectable (engine/connection) or database string URI or sqlite3 DBAPI2 connection. Other DBAPI2 objects are not tested. Please consider using SQLAlchemy.\n",
      "  df = pd.read_sql(query, conn, params=('Dairy',))\n"
     ]
    }
   ],
   "source": [
    "dairy_df = fetch_dairy_products_df()\n",
    "print(dairy_df)"
   ]
  },
  {
   "cell_type": "code",
   "execution_count": null,
   "id": "b2d12774",
   "metadata": {},
   "outputs": [],
   "source": [
    "# Query on stocquantity below 50\n",
    "def get_stock_products_df():\n",
    "    conn = get_db_connection()\n",
    "    cursor = conn.cursor()\n",
    "\n",
    "    query = \"\"\"\n",
    "        SELECT ProductID, ProductName, Category, Price, StockQuantity, StockValue\n",
    "        FROM fresh_mart.products\n",
    "        WHERE StockQuantity < 50;\n",
    "    \"\"\"\n",
    "\n",
    "    df = pd.read_sql(query, conn)\n",
    "    conn.close()\n",
    "    return df"
   ]
  },
  {
   "cell_type": "code",
   "execution_count": 138,
   "id": "4a19c1a9",
   "metadata": {},
   "outputs": [
    {
     "name": "stdout",
     "output_type": "stream",
     "text": [
      "    productid      productname   category  price  stockquantity  stockvalue\n",
      "0           7           Milk 7      Dairy  35.70              0        0.00\n",
      "1          30  Orange Juice 30  Beverages  33.46             11      368.06\n",
      "2          57         Bread 57     Bakery  14.46             44      636.24\n",
      "3          70        Yogurt 70      Dairy  38.02             45     1710.90\n",
      "4          89   Granola Bar 89     Snacks  28.35              0        0.00\n",
      "5         115         Milk 115      Dairy  20.48             48      983.04\n",
      "6         121    Croissant 121     Bakery   9.57              0        0.00\n",
      "7         126        Chips 126     Snacks  32.02             18      576.36\n",
      "8         130      Lettuce 130    Produce  39.21              0        0.00\n",
      "9         146        Apple 146    Produce  32.18             31      997.58\n",
      "10        147        Chips 147     Snacks  12.96             47      609.12\n",
      "11        154  Granola Bar 154     Snacks  25.46             13      330.98\n",
      "12        158    Croissant 158     Bakery  14.70             15      220.50\n",
      "13        166       Carrot 166    Produce  24.78             27      669.06\n",
      "14        180  Mineral Water 1  Beverages  25.57              0        0.00\n"
     ]
    },
    {
     "name": "stderr",
     "output_type": "stream",
     "text": [
      "C:\\Users\\adeol\\AppData\\Local\\Temp\\ipykernel_34104\\434989208.py:11: UserWarning: pandas only supports SQLAlchemy connectable (engine/connection) or database string URI or sqlite3 DBAPI2 connection. Other DBAPI2 objects are not tested. Please consider using SQLAlchemy.\n",
      "  df = pd.read_sql(query, conn)\n"
     ]
    }
   ],
   "source": [
    "stock_below_df = get_stock_products_df()\n",
    "print(stock_below_df)"
   ]
  }
 ],
 "metadata": {
  "kernelspec": {
   "display_name": "base",
   "language": "python",
   "name": "python3"
  },
  "language_info": {
   "codemirror_mode": {
    "name": "ipython",
    "version": 3
   },
   "file_extension": ".py",
   "mimetype": "text/x-python",
   "name": "python",
   "nbconvert_exporter": "python",
   "pygments_lexer": "ipython3",
   "version": "3.12.7"
  }
 },
 "nbformat": 4,
 "nbformat_minor": 5
}
